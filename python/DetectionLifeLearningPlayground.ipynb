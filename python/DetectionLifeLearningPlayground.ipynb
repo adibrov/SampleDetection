{
 "cells": [
  {
   "cell_type": "code",
   "execution_count": 58,
   "metadata": {},
   "outputs": [
    {
     "data": {
      "text/plain": [
       "<module 'unet.modules.net' from 'C:\\\\Users\\\\myersadmin\\\\soft\\\\unet\\\\modules\\\\net.py'>"
      ]
     },
     "execution_count": 58,
     "metadata": {},
     "output_type": "execute_result"
    }
   ],
   "source": [
    "from detection.normalization import normalizePercentile\n",
    "import numpy as np\n",
    "from importlib import reload\n",
    "\n",
    "import unet.modules.net\n",
    "\n",
    "# reload(detection.normalization)\n",
    "reload(unet.modules.net)\n"
   ]
  },
  {
   "cell_type": "code",
   "execution_count": 59,
   "metadata": {},
   "outputs": [
    {
     "data": {
      "text/plain": [
       "['',\n",
       " 'C:\\\\Users\\\\myersadmin\\\\AppData\\\\Local\\\\Programs\\\\Python\\\\Python35\\\\Lib',\n",
       " 'C:\\\\Users\\\\myersadmin\\\\soft\\\\gans',\n",
       " 'C:\\\\Users\\\\myersadmin\\\\soft',\n",
       " 'c:\\\\users\\\\myersadmin\\\\appdata\\\\local\\\\programs\\\\python\\\\python35\\\\python35.zip',\n",
       " 'c:\\\\users\\\\myersadmin\\\\appdata\\\\local\\\\programs\\\\python\\\\python35\\\\DLLs',\n",
       " 'c:\\\\users\\\\myersadmin\\\\appdata\\\\local\\\\programs\\\\python\\\\python35',\n",
       " 'C:\\\\Users\\\\myersadmin\\\\AppData\\\\Roaming\\\\Python\\\\Python35\\\\site-packages',\n",
       " 'c:\\\\users\\\\myersadmin\\\\appdata\\\\local\\\\programs\\\\python\\\\python35\\\\lib\\\\site-packages',\n",
       " 'c:\\\\users\\\\myersadmin\\\\appdata\\\\local\\\\programs\\\\python\\\\python35\\\\lib\\\\site-packages\\\\tf_cnnvis-1.0.0-py3.5.egg',\n",
       " 'c:\\\\users\\\\myersadmin\\\\appdata\\\\local\\\\programs\\\\python\\\\python35\\\\lib\\\\site-packages\\\\scikit_image-0.13.1-py3.5-win-amd64.egg',\n",
       " 'c:\\\\users\\\\myersadmin\\\\appdata\\\\local\\\\programs\\\\python\\\\python35\\\\lib\\\\site-packages\\\\wget-3.2-py3.5.egg',\n",
       " 'c:\\\\users\\\\myersadmin\\\\appdata\\\\local\\\\programs\\\\python\\\\python35\\\\lib\\\\site-packages\\\\pywavelets-0.5.2-py3.5-win-amd64.egg',\n",
       " 'c:\\\\users\\\\myersadmin\\\\appdata\\\\local\\\\programs\\\\python\\\\python35\\\\lib\\\\site-packages\\\\networkx-2.0-py3.5.egg',\n",
       " 'c:\\\\users\\\\myersadmin\\\\appdata\\\\local\\\\programs\\\\python\\\\python35\\\\lib\\\\site-packages\\\\decorator-4.1.2-py3.5.egg',\n",
       " 'c:\\\\users\\\\myersadmin\\\\appdata\\\\local\\\\programs\\\\python\\\\python35\\\\lib\\\\site-packages\\\\win32',\n",
       " 'c:\\\\users\\\\myersadmin\\\\appdata\\\\local\\\\programs\\\\python\\\\python35\\\\lib\\\\site-packages\\\\win32\\\\lib',\n",
       " 'c:\\\\users\\\\myersadmin\\\\appdata\\\\local\\\\programs\\\\python\\\\python35\\\\lib\\\\site-packages\\\\Pythonwin',\n",
       " 'C:\\\\Users\\\\myersadmin\\\\AppData\\\\Roaming\\\\Python\\\\Python35\\\\site-packages\\\\IPython\\\\extensions',\n",
       " 'C:\\\\cygwin64\\\\home\\\\myersadmin\\\\.ipython']"
      ]
     },
     "execution_count": 59,
     "metadata": {},
     "output_type": "execute_result"
    }
   ],
   "source": [
    "import sys\n",
    "sys.path"
   ]
  },
  {
   "cell_type": "code",
   "execution_count": null,
   "metadata": {},
   "outputs": [],
   "source": []
  },
  {
   "cell_type": "code",
   "execution_count": 60,
   "metadata": {},
   "outputs": [],
   "source": [
    "m = unet.modules.net.build_unet((None,None,1))"
   ]
  },
  {
   "cell_type": "code",
   "execution_count": 61,
   "metadata": {},
   "outputs": [
    {
     "data": {
      "text/plain": [
       "<keras.engine.training.Model at 0x13e6b7f0>"
      ]
     },
     "execution_count": 61,
     "metadata": {},
     "output_type": "execute_result"
    }
   ],
   "source": [
    "m"
   ]
  },
  {
   "cell_type": "code",
   "execution_count": 63,
   "metadata": {},
   "outputs": [
    {
     "data": {
      "text/plain": [
       "<keras.engine.training.Model at 0x13e6b7f0>"
      ]
     },
     "execution_count": 63,
     "metadata": {},
     "output_type": "execute_result"
    }
   ],
   "source": [
    "m"
   ]
  },
  {
   "cell_type": "code",
   "execution_count": 69,
   "metadata": {},
   "outputs": [],
   "source": [
    "from keras.optimizers import Adam\n",
    "from unet.modules.functions import my_binary_crossentropy\n",
    "m.compile(optimizer=Adam(lr=0.001), loss=my_binary_crossentropy((1,1)), metrics=['accuracy'])"
   ]
  },
  {
   "cell_type": "code",
   "execution_count": null,
   "metadata": {},
   "outputs": [],
   "source": []
  }
 ],
 "metadata": {
  "kernelspec": {
   "display_name": "Python 3",
   "language": "python",
   "name": "python3"
  },
  "language_info": {
   "codemirror_mode": {
    "name": "ipython",
    "version": 3
   },
   "file_extension": ".py",
   "mimetype": "text/x-python",
   "name": "python",
   "nbconvert_exporter": "python",
   "pygments_lexer": "ipython3",
   "version": "3.5.2"
  }
 },
 "nbformat": 4,
 "nbformat_minor": 2
}
